{
 "cells": [
  {
   "cell_type": "code",
   "execution_count": 6,
   "id": "f3de16df-5bab-40f1-b6c3-bd35a18affd1",
   "metadata": {},
   "outputs": [],
   "source": [
    "from pyspark.sql import SparkSession\n",
    "from pyspark.sql.types import *\n",
    "from pyspark.sql.functions import *"
   ]
  },
  {
   "cell_type": "code",
   "execution_count": 8,
   "id": "7bb3043a-ac12-416c-9150-31163d55386e",
   "metadata": {},
   "outputs": [],
   "source": [
    "spark = SparkSession\\\n",
    ".builder\\\n",
    ".appName('data_analaysis')\\\n",
    ".config('spark.jars.packages', 'org.mongodb.spark:mongo-spark-connector_2.12:3.0.1')\\\n",
    ".getOrCreate()"
   ]
  },
  {
   "cell_type": "markdown",
   "id": "967cb7b9-9519-4a4e-bb3d-f89e13d788a7",
   "metadata": {},
   "source": [
    "# Load csv data"
   ]
  },
  {
   "cell_type": "code",
   "execution_count": 12,
   "id": "9c517cd7-bdf4-4cda-8872-4e2fec512bbd",
   "metadata": {},
   "outputs": [],
   "source": [
    "load_df = spark.read.csv(r\"C:\\Users\\kidan\\Downloads\\database.csv\", header=True)"
   ]
  },
  {
   "cell_type": "code",
   "execution_count": 14,
   "id": "10128235-8056-40e9-b5ea-4f70430b4ba7",
   "metadata": {},
   "outputs": [
    {
     "data": {
      "text/plain": [
       "[Row(Date='01/02/1965', Time='13:44:18', Latitude='19.246', Longitude='145.616', Type='Earthquake', Depth='131.6', Depth Error=None, Depth Seismic Stations=None, Magnitude='6', Magnitude Type='MW', Magnitude Error=None, Magnitude Seismic Stations=None, Azimuthal Gap=None, Horizontal Distance=None, Horizontal Error=None, Root Mean Square=None, ID='ISCGEM860706', Source='ISCGEM', Location Source='ISCGEM', Magnitude Source='ISCGEM', Status='Automatic')]"
      ]
     },
     "execution_count": 14,
     "metadata": {},
     "output_type": "execute_result"
    }
   ],
   "source": [
    "load_df.take(1)"
   ]
  },
  {
   "cell_type": "code",
   "execution_count": 19,
   "id": "1107f8c6-c9e5-4a83-941a-1b4f523d9faf",
   "metadata": {},
   "outputs": [
    {
     "name": "stdout",
     "output_type": "stream",
     "text": [
      "+----------+--------+--------+---------+----------+-----+-----------+----------------------+---------+--------------+---------------+--------------------------+-------------+-------------------+----------------+----------------+------------+------+---------------+----------------+---------+\n",
      "|      Date|    Time|Latitude|Longitude|      Type|Depth|Depth Error|Depth Seismic Stations|Magnitude|Magnitude Type|Magnitude Error|Magnitude Seismic Stations|Azimuthal Gap|Horizontal Distance|Horizontal Error|Root Mean Square|          ID|Source|Location Source|Magnitude Source|   Status|\n",
      "+----------+--------+--------+---------+----------+-----+-----------+----------------------+---------+--------------+---------------+--------------------------+-------------+-------------------+----------------+----------------+------------+------+---------------+----------------+---------+\n",
      "|01/02/1965|13:44:18|  19.246|  145.616|Earthquake|131.6|       NULL|                  NULL|        6|            MW|           NULL|                      NULL|         NULL|               NULL|            NULL|            NULL|ISCGEM860706|ISCGEM|         ISCGEM|          ISCGEM|Automatic|\n",
      "|01/04/1965|11:29:49|   1.863|  127.352|Earthquake|   80|       NULL|                  NULL|      5.8|            MW|           NULL|                      NULL|         NULL|               NULL|            NULL|            NULL|ISCGEM860737|ISCGEM|         ISCGEM|          ISCGEM|Automatic|\n",
      "+----------+--------+--------+---------+----------+-----+-----------+----------------------+---------+--------------+---------------+--------------------------+-------------+-------------------+----------------+----------------+------------+------+---------------+----------------+---------+\n",
      "only showing top 2 rows\n",
      "\n"
     ]
    }
   ],
   "source": [
    "load_df.show(2)"
   ]
  },
  {
   "cell_type": "markdown",
   "id": "3f7d7f9a-f215-48b5-9403-8561dc6a0b66",
   "metadata": {},
   "source": [
    "# Drope unwanted columns from load_df"
   ]
  },
  {
   "cell_type": "code",
   "execution_count": 36,
   "id": "885a296e-b0f1-421b-a63b-224e17743afa",
   "metadata": {},
   "outputs": [],
   "source": [
    "list_droped_columns = ['Depth Error','Time','Depth Seismic Stations','Magnitude Error', 'Magnitude Seismic Stations','Azimuthal Gap','Horizontal Distance','Horizontal Error','Root Mean Square','Source', 'Location Source','Magnitude Source','Status']"
   ]
  },
  {
   "cell_type": "code",
   "execution_count": 38,
   "id": "83d8ffd8-407e-45ce-9fa9-18c723c8c06e",
   "metadata": {},
   "outputs": [],
   "source": [
    "load_df=load_df.drop(*list_droped_columns)"
   ]
  },
  {
   "cell_type": "code",
   "execution_count": 42,
   "id": "ad8f221b-ae1a-41c5-a3db-ce1d7ae2e093",
   "metadata": {},
   "outputs": [
    {
     "name": "stdout",
     "output_type": "stream",
     "text": [
      "+----------+--------+---------+----------+-----+---------+--------------+------------+\n",
      "|      Date|Latitude|Longitude|      Type|Depth|Magnitude|Magnitude Type|          ID|\n",
      "+----------+--------+---------+----------+-----+---------+--------------+------------+\n",
      "|01/02/1965|  19.246|  145.616|Earthquake|131.6|        6|            MW|ISCGEM860706|\n",
      "|01/04/1965|   1.863|  127.352|Earthquake|   80|      5.8|            MW|ISCGEM860737|\n",
      "|01/05/1965| -20.579| -173.972|Earthquake|   20|      6.2|            MW|ISCGEM860762|\n",
      "|01/08/1965| -59.076|  -23.557|Earthquake|   15|      5.8|            MW|ISCGEM860856|\n",
      "|01/09/1965|  11.938|  126.427|Earthquake|   15|      5.8|            MW|ISCGEM860890|\n",
      "+----------+--------+---------+----------+-----+---------+--------------+------------+\n",
      "only showing top 5 rows\n",
      "\n"
     ]
    }
   ],
   "source": [
    "load_df.show(5)"
   ]
  },
  {
   "cell_type": "markdown",
   "id": "5b882520-1732-4671-acb6-d22a727ca44e",
   "metadata": {},
   "source": [
    "# create year column and add it in to dataframes"
   ]
  },
  {
   "cell_type": "code",
   "execution_count": 47,
   "id": "f47ad111-d03e-42a4-98ac-ff98c87776b0",
   "metadata": {},
   "outputs": [],
   "source": [
    "load_df = load_df.withColumn('Year',year(to_timestamp('Date','dd/MM/yyyy')))"
   ]
  },
  {
   "cell_type": "code",
   "execution_count": 49,
   "id": "c63b4241-4461-442f-9e11-2222a334637e",
   "metadata": {},
   "outputs": [
    {
     "name": "stdout",
     "output_type": "stream",
     "text": [
      "+----------+--------+---------+----------+-----+---------+--------------+------------+----+\n",
      "|      Date|Latitude|Longitude|      Type|Depth|Magnitude|Magnitude Type|          ID|Year|\n",
      "+----------+--------+---------+----------+-----+---------+--------------+------------+----+\n",
      "|01/02/1965|  19.246|  145.616|Earthquake|131.6|        6|            MW|ISCGEM860706|1965|\n",
      "|01/04/1965|   1.863|  127.352|Earthquake|   80|      5.8|            MW|ISCGEM860737|1965|\n",
      "|01/05/1965| -20.579| -173.972|Earthquake|   20|      6.2|            MW|ISCGEM860762|1965|\n",
      "|01/08/1965| -59.076|  -23.557|Earthquake|   15|      5.8|            MW|ISCGEM860856|1965|\n",
      "|01/09/1965|  11.938|  126.427|Earthquake|   15|      5.8|            MW|ISCGEM860890|1965|\n",
      "+----------+--------+---------+----------+-----+---------+--------------+------------+----+\n",
      "only showing top 5 rows\n",
      "\n"
     ]
    }
   ],
   "source": [
    "load_df.show(5)"
   ]
  },
  {
   "cell_type": "code",
   "execution_count": 51,
   "id": "82dc3105-1395-4018-8aaf-f8556f12d683",
   "metadata": {},
   "outputs": [],
   "source": [
    "load_df=load_df.withColumn('Month', month(to_timestamp('Date','dd/MM/yyyy')))"
   ]
  },
  {
   "cell_type": "code",
   "execution_count": 53,
   "id": "bdf41b7f-77d3-45d8-86fb-0d98c5fbc565",
   "metadata": {},
   "outputs": [
    {
     "name": "stdout",
     "output_type": "stream",
     "text": [
      "+----------+--------+---------+----------+-----+---------+--------------+------------+----+-----+\n",
      "|      Date|Latitude|Longitude|      Type|Depth|Magnitude|Magnitude Type|          ID|Year|Month|\n",
      "+----------+--------+---------+----------+-----+---------+--------------+------------+----+-----+\n",
      "|01/02/1965|  19.246|  145.616|Earthquake|131.6|        6|            MW|ISCGEM860706|1965|    2|\n",
      "|01/04/1965|   1.863|  127.352|Earthquake|   80|      5.8|            MW|ISCGEM860737|1965|    4|\n",
      "|01/05/1965| -20.579| -173.972|Earthquake|   20|      6.2|            MW|ISCGEM860762|1965|    5|\n",
      "|01/08/1965| -59.076|  -23.557|Earthquake|   15|      5.8|            MW|ISCGEM860856|1965|    8|\n",
      "|01/09/1965|  11.938|  126.427|Earthquake|   15|      5.8|            MW|ISCGEM860890|1965|    9|\n",
      "+----------+--------+---------+----------+-----+---------+--------------+------------+----+-----+\n",
      "only showing top 5 rows\n",
      "\n"
     ]
    }
   ],
   "source": [
    "load_df.show(5)"
   ]
  },
  {
   "cell_type": "markdown",
   "id": "a99a0db7-3cc2-4b35-9880-61920c09764c",
   "metadata": {},
   "source": [
    "# build quack  frequency dataframe using the year field and count for each year"
   ]
  },
  {
   "cell_type": "code",
   "execution_count": 69,
   "id": "1e4d8b3e-9831-41cf-9c99-af8d565c3d91",
   "metadata": {},
   "outputs": [],
   "source": [
    "quack_frqen_year = load_df.groupBy('Year').count().withColumnRenamed('count','Counts')"
   ]
  },
  {
   "cell_type": "code",
   "execution_count": 71,
   "id": "3646ed6b-6ce9-4711-b8fa-d466daac4658",
   "metadata": {},
   "outputs": [
    {
     "name": "stdout",
     "output_type": "stream",
     "text": [
      "+----+------+\n",
      "|Year|Counts|\n",
      "+----+------+\n",
      "|1990|   196|\n",
      "|1975|   150|\n",
      "|1977|   148|\n",
      "|2003|   187|\n",
      "|2007|   211|\n",
      "+----+------+\n",
      "only showing top 5 rows\n",
      "\n"
     ]
    }
   ],
   "source": [
    "quack_frqen_year.show(5)"
   ]
  },
  {
   "cell_type": "code",
   "execution_count": null,
   "id": "e8d1a814-e7d8-4402-8cd4-303a127d3b25",
   "metadata": {},
   "outputs": [],
   "source": []
  }
 ],
 "metadata": {
  "kernelspec": {
   "display_name": "Python 3 (ipykernel)",
   "language": "python",
   "name": "python3"
  },
  "language_info": {
   "codemirror_mode": {
    "name": "ipython",
    "version": 3
   },
   "file_extension": ".py",
   "mimetype": "text/x-python",
   "name": "python",
   "nbconvert_exporter": "python",
   "pygments_lexer": "ipython3",
   "version": "3.12.4"
  }
 },
 "nbformat": 4,
 "nbformat_minor": 5
}
