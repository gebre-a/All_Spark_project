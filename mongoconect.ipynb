{
 "cells": [
  {
   "cell_type": "code",
   "execution_count": 1,
   "id": "f148e755-a3cc-4998-9bcd-8df33d162b9d",
   "metadata": {},
   "outputs": [],
   "source": [
    "from pyspark.sql import SparkSession\n",
    "\n",
    "from pyspark.sql import SparkSession\n",
    "\n",
    "# Create a Spark session with the MongoDB connector\n",
    "spark = SparkSession.builder \\\n",
    "    .appName(\"MongoDBSparkConnector\") \\\n",
    "    .config(\"spark.mongodb.input.uri\", \"mongodb://localhost:27017/bank_data.transactions\") \\\n",
    "    .config(\"spark.mongodb.output.uri\", \"mongodb://localhost:27017/bank_data.transactions\") \\\n",
    "    .config(\"spark.jars.packages\", \"org.mongodb.spark:mongo-spark-connector_2.12:3.0.1\") \\\n",
    "    .getOrCreate()"
   ]
  },
  {
   "cell_type": "code",
   "execution_count": 5,
   "id": "d8e2fe2e-1f82-4c2e-a81c-d777dbc22156",
   "metadata": {},
   "outputs": [
    {
     "data": {
      "text/plain": [
       "[Row(_id=Row(oid='66fa98cd9f09bbc9105a414f'), amount=5000, branch_id='001', transaction_type='deposit')]"
      ]
     },
     "execution_count": 5,
     "metadata": {},
     "output_type": "execute_result"
    }
   ],
   "source": [
    "# Read data from MongoDB\n",
    "df = spark.read \\\n",
    "    .format(\"mongo\") \\\n",
    "    .option(\"uri\", \"mongodb://localhost:27017/bank_data.transactions\") \\\n",
    "    .load()\n",
    "\n",
    "# Show the DataFrame\n",
    "df.take(1)"
   ]
  },
  {
   "cell_type": "code",
   "execution_count": 5,
   "id": "7ba3613d-de9a-4a99-8a16-ec7d9c3c654e",
   "metadata": {},
   "outputs": [],
   "source": [
    "# Write DataFrame to MongoDB\n",
    "df.write \\\n",
    "    .format(\"mongo\") \\\n",
    "    .mode(\"overwrite\") \\\n",
    "    .option(\"uri\", \"mongodb://localhost:27017/bank_db.branch_transactions\") \\\n",
    "    .save()"
   ]
  },
  {
   "cell_type": "code",
   "execution_count": null,
   "id": "028cd312-3085-44d1-beaa-dca563436ce1",
   "metadata": {},
   "outputs": [],
   "source": []
  }
 ],
 "metadata": {
  "kernelspec": {
   "display_name": "Python 3 (ipykernel)",
   "language": "python",
   "name": "python3"
  },
  "language_info": {
   "codemirror_mode": {
    "name": "ipython",
    "version": 3
   },
   "file_extension": ".py",
   "mimetype": "text/x-python",
   "name": "python",
   "nbconvert_exporter": "python",
   "pygments_lexer": "ipython3",
   "version": "3.12.4"
  }
 },
 "nbformat": 4,
 "nbformat_minor": 5
}
