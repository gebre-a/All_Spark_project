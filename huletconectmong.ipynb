{
 "cells": [
  {
   "cell_type": "code",
   "execution_count": 1,
   "id": "4fc4c6fa-61f9-4d23-9e78-f2e9bc0607f5",
   "metadata": {},
   "outputs": [
    {
     "name": "stdout",
     "output_type": "stream",
     "text": [
      "++\n",
      "||\n",
      "++\n",
      "++\n",
      "\n"
     ]
    }
   ],
   "source": [
    "from pyspark.sql import SparkSession\n",
    "\n",
    "# Create a Spark session with the MongoDB connector\n",
    "spark = SparkSession.builder \\\n",
    "    .appName(\"MongoDBSparkConnector\") \\\n",
    "    .config(\"spark.mongodb.input.uri\", \"mongodb://localhost:27017/bank_db.branch_transactions\") \\\n",
    "    .config(\"spark.mongodb.output.uri\", \"mongodb://localhost:27017/bank_db.branch_transactions\") \\\n",
    "    .config(\"spark.jars.packages\", \"org.mongodb.spark:mongo-spark-connector_2.12:3.0.1\") \\\n",
    "    .getOrCreate()\n",
    "\n",
    "# Read data from MongoDB\n",
    "df = spark.read \\\n",
    "    .format(\"mongo\") \\\n",
    "    .option(\"uri\", \"mongodb://localhost:27017/bank_db.branch_transactions\") \\\n",
    "    .load()\n",
    "\n",
    "# Show the DataFrame\n",
    "df.show()\n",
    "\n",
    "# Write DataFrame to MongoDB\n",
    "df.write \\\n",
    "    .format(\"mongo\") \\\n",
    "    .mode(\"overwrite\") \\\n",
    "    .option(\"uri\", \"mongodb://localhost:27017/bank_db.branch_transactions\") \\\n",
    "    .save()\n",
    "\n",
    "# Stop the Spark session\n",
    "spark.stop()"
   ]
  },
  {
   "cell_type": "code",
   "execution_count": null,
   "id": "e6fa0cb4-f76e-450d-9798-42fe08ae7ab9",
   "metadata": {},
   "outputs": [],
   "source": []
  }
 ],
 "metadata": {
  "kernelspec": {
   "display_name": "Python 3 (ipykernel)",
   "language": "python",
   "name": "python3"
  },
  "language_info": {
   "codemirror_mode": {
    "name": "ipython",
    "version": 3
   },
   "file_extension": ".py",
   "mimetype": "text/x-python",
   "name": "python",
   "nbconvert_exporter": "python",
   "pygments_lexer": "ipython3",
   "version": "3.12.4"
  }
 },
 "nbformat": 4,
 "nbformat_minor": 5
}
